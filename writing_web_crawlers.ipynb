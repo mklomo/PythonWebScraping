{
 "cells": [
  {
   "attachments": {},
   "cell_type": "markdown",
   "metadata": {},
   "source": [
    "# Web Crawlers\n",
    "\n",
    "Web crawlers are called such because they crawl across the web. At their core is an element of recursion. They must retrieve page contents for a URL, examine that page for another URL, and retrieve that page, ad infinitum."
   ]
  },
  {
   "cell_type": "code",
   "execution_count": 20,
   "metadata": {},
   "outputs": [
    {
     "name": "stdout",
     "output_type": "stream",
     "text": [
      "/wiki/Will_Smith\n",
      "/wiki/Glory_Van_Scott\n",
      "/wiki/Kevin_Bacon_filmography\n",
      "/wiki/Stanley_Tucci\n",
      "/wiki/The_New_York_Times\n",
      "/wiki/Bravo_Otto\n",
      "/wiki/Mads_Mikkelsen\n",
      "/wiki/Billy_Bob_Thornton\n",
      "/wiki/Scream_Awards\n",
      "/wiki/Category:Articles_with_VIAF_identifiers\n"
     ]
    }
   ],
   "source": [
    "from urllib.request import urlopen\n",
    "from bs4 import BeautifulSoup\n",
    "import re\n",
    "import random\n",
    "\n",
    "\n",
    "# page_url = 'http://en.wikipedia.org/wiki/Kevin_Bacon'\n",
    "\n",
    "wikilink_regex =  '^(/wiki/).*'\n",
    "\n",
    "\n",
    "def get_links(article_url):\n",
    "    global wikilink_regex\n",
    "    page_url = f'http://en.wikipedia.org{article_url}'\n",
    "    html = urlopen(page_url)\n",
    "    bs = BeautifulSoup(html)\n",
    "    return bs.find('div', {'id': 'bodyContent'}).find_all(\n",
    "        'a', href=re.compile(wikilink_regex)\n",
    "    )\n",
    "    \n",
    "    \n",
    "links = get_links(article_url='/wiki/Kevin_Bacon')\n",
    "\n",
    "counter = 10\n",
    "\n",
    "while counter != 0:\n",
    "    new_article = links[random.randint(0, len(links) - 1)].attrs['href']\n",
    "    print(new_article)\n",
    "    counter -= 1\n"
   ]
  },
  {
   "cell_type": "code",
   "execution_count": null,
   "metadata": {},
   "outputs": [],
   "source": []
  }
 ],
 "metadata": {
  "kernelspec": {
   "display_name": ".web_scraper",
   "language": "python",
   "name": "python3"
  },
  "language_info": {
   "codemirror_mode": {
    "name": "ipython",
    "version": 3
   },
   "file_extension": ".py",
   "mimetype": "text/x-python",
   "name": "python",
   "nbconvert_exporter": "python",
   "pygments_lexer": "ipython3",
   "version": "3.8.0"
  },
  "orig_nbformat": 4,
  "vscode": {
   "interpreter": {
    "hash": "52d3c4b992eb9004478ecd41c466dff3a005b08c019bd120b2e0b98d3fa31229"
   }
  }
 },
 "nbformat": 4,
 "nbformat_minor": 2
}
